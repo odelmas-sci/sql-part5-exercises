{
    "metadata": {
        "kernelspec": {
            "name": "SQL",
            "display_name": "SQL",
            "language": "sql"
        },
        "language_info": {
            "name": "sql",
            "version": ""
        }
    },
    "nbformat_minor": 2,
    "nbformat": 4,
    "cells": [
        {
            "cell_type": "markdown",
            "source": [
                "# Exercises: Creating, Updating, and Destroying Objects\n",
                "\n",
                "For the exercises, you will be working with objects and data you create. Before opening this notebook, make sure that you have set up the new connection to the server and that you have located the database and your schema.\n",
                "\n",
                "## Object Creation\n",
                "\n",
                "Before coding, think of three things you want to make. These could be coding projects, new recipes, or planned projects for a woodworking hobby. Brainstorm the appropriate column names and data types as well.\n",
                "\n",
                "Create a table under your schema called `planned_makes`."
            ],
            "metadata": {
                "azdata_cell_guid": "9d51c166-0c19-4f27-a422-2a6cf596bfb2"
            },
            "attachments": {}
        },
        {
            "cell_type": "code",
            "source": [
                "CREATE TABLE Olivia.planned_makes (\r\n",
                "id INT PRIMARY KEY IDENTITY (1,1),\r\n",
                "project_name VARCHAR(50) NOT NULL,\r\n",
                "project_description VARCHAR(50) NOT NULL\r\n",
                ");\r\n",
                "\r\n",
                ""
            ],
            "metadata": {
                "azdata_cell_guid": "d9238911-6f81-4f01-980d-b584307effaf",
                "language": "sql"
            },
            "outputs": [
                {
                    "output_type": "error",
                    "evalue": "Msg 2714, Level 16, State 6, Line 1\r\nThere is already an object named 'planned_makes' in the database.",
                    "ename": "",
                    "traceback": []
                },
                {
                    "output_type": "display_data",
                    "data": {
                        "text/html": "Total execution time: 00:00:00.036"
                    },
                    "metadata": {}
                }
            ],
            "execution_count": 9
        },
        {
            "cell_type": "markdown",
            "source": [
                "Add three rows to your table that are your planned makes."
            ],
            "metadata": {
                "azdata_cell_guid": "83cdf34d-8c4f-4fa1-a14e-77384b19d734"
            }
        },
        {
            "cell_type": "code",
            "source": [
                "INSERT INTO Olivia.planned_makes\r\n",
                "VALUES ('build birdhouse', 'get wood from Home Depot and cut into birdhouse' );\r\n",
                "\r\n",
                "\r\n",
                "SELECT * FROM Olivia.planned_makes;"
            ],
            "metadata": {
                "azdata_cell_guid": "e7cff9cb-87ba-4c7b-98f2-eaf445e8719c",
                "language": "sql"
            },
            "outputs": [
                {
                    "output_type": "display_data",
                    "data": {
                        "text/html": "(1 row affected)"
                    },
                    "metadata": {}
                },
                {
                    "output_type": "display_data",
                    "data": {
                        "text/html": "(5 rows affected)"
                    },
                    "metadata": {}
                },
                {
                    "output_type": "display_data",
                    "data": {
                        "text/html": "Total execution time: 00:00:00.045"
                    },
                    "metadata": {}
                },
                {
                    "output_type": "execute_result",
                    "metadata": {},
                    "execution_count": 17,
                    "data": {
                        "application/vnd.dataresource+json": {
                            "schema": {
                                "fields": [
                                    {
                                        "name": "id"
                                    },
                                    {
                                        "name": "project_name"
                                    },
                                    {
                                        "name": "project_description"
                                    }
                                ]
                            },
                            "data": [
                                {
                                    "0": "1",
                                    "1": "tiling floor",
                                    "2": "re-tiling the bathroom"
                                },
                                {
                                    "0": "2",
                                    "1": "tiling floor",
                                    "2": "re-tiling the bathroom"
                                },
                                {
                                    "0": "3",
                                    "1": "tiling floor",
                                    "2": "re-tiling the bathroom"
                                },
                                {
                                    "0": "4",
                                    "1": "hang paintings",
                                    "2": "measure and hang up pictures"
                                },
                                {
                                    "0": "7",
                                    "1": "build birdhouse",
                                    "2": "get wood from Home Depot and cut into birdhouse"
                                }
                            ]
                        },
                        "text/html": [
                            "<table>",
                            "<tr><th>id</th><th>project_name</th><th>project_description</th></tr>",
                            "<tr><td>1</td><td>tiling floor</td><td>re-tiling the bathroom</td></tr>",
                            "<tr><td>2</td><td>tiling floor</td><td>re-tiling the bathroom</td></tr>",
                            "<tr><td>3</td><td>tiling floor</td><td>re-tiling the bathroom</td></tr>",
                            "<tr><td>4</td><td>hang paintings</td><td>measure and hang up pictures</td></tr>",
                            "<tr><td>7</td><td>build birdhouse</td><td>get wood from Home Depot and cut into birdhouse</td></tr>",
                            "</table>"
                        ]
                    }
                }
            ],
            "execution_count": 17
        },
        {
            "cell_type": "markdown",
            "source": [
                "## Update a Row\n",
                "\n",
                "Change different values in one of your three rows."
            ],
            "metadata": {
                "azdata_cell_guid": "4a39b8d4-ae97-4e09-8336-c5fc6a00d76c"
            },
            "attachments": {}
        },
        {
            "cell_type": "code",
            "source": [
                "UPDATE Olivia.planned_makes\r\n",
                "SET \r\n",
                "project_name = 'weed-eat yard', project_description = 'pull weeds out of yard'\r\n",
                "WHERE id = 2; \r\n",
                "\r\n",
                "UPDATE Olivia.planned_makes\r\n",
                "SET \r\n",
                "project_name = 'spray for bugs', project_description = 'spray yard for bugs'\r\n",
                "WHERE id = 3;\r\n",
                "\r\n",
                "SELECT * FROM Olivia.planned_makes;"
            ],
            "metadata": {
                "azdata_cell_guid": "7409c695-9581-4ad8-b03a-574d2c4c87cb",
                "language": "sql"
            },
            "outputs": [
                {
                    "output_type": "display_data",
                    "data": {
                        "text/html": "(1 row affected)"
                    },
                    "metadata": {}
                },
                {
                    "output_type": "display_data",
                    "data": {
                        "text/html": "(1 row affected)"
                    },
                    "metadata": {}
                },
                {
                    "output_type": "display_data",
                    "data": {
                        "text/html": "(5 rows affected)"
                    },
                    "metadata": {}
                },
                {
                    "output_type": "display_data",
                    "data": {
                        "text/html": "Total execution time: 00:00:00.051"
                    },
                    "metadata": {}
                },
                {
                    "output_type": "execute_result",
                    "metadata": {},
                    "execution_count": 20,
                    "data": {
                        "application/vnd.dataresource+json": {
                            "schema": {
                                "fields": [
                                    {
                                        "name": "id"
                                    },
                                    {
                                        "name": "project_name"
                                    },
                                    {
                                        "name": "project_description"
                                    }
                                ]
                            },
                            "data": [
                                {
                                    "0": "1",
                                    "1": "tiling floor",
                                    "2": "re-tiling the bathroom"
                                },
                                {
                                    "0": "2",
                                    "1": "weed-eat yard",
                                    "2": "pull weeds out of yard"
                                },
                                {
                                    "0": "3",
                                    "1": "spray for bugs",
                                    "2": "spray yard for bugs"
                                },
                                {
                                    "0": "4",
                                    "1": "hang paintings",
                                    "2": "measure and hang up pictures"
                                },
                                {
                                    "0": "7",
                                    "1": "build birdhouse",
                                    "2": "get wood from Home Depot and cut into birdhouse"
                                }
                            ]
                        },
                        "text/html": [
                            "<table>",
                            "<tr><th>id</th><th>project_name</th><th>project_description</th></tr>",
                            "<tr><td>1</td><td>tiling floor</td><td>re-tiling the bathroom</td></tr>",
                            "<tr><td>2</td><td>weed-eat yard</td><td>pull weeds out of yard</td></tr>",
                            "<tr><td>3</td><td>spray for bugs</td><td>spray yard for bugs</td></tr>",
                            "<tr><td>4</td><td>hang paintings</td><td>measure and hang up pictures</td></tr>",
                            "<tr><td>7</td><td>build birdhouse</td><td>get wood from Home Depot and cut into birdhouse</td></tr>",
                            "</table>"
                        ]
                    }
                }
            ],
            "execution_count": 20
        },
        {
            "cell_type": "markdown",
            "source": [
                "## Delete a Row\n",
                "\n",
                "Delete one of the rows from your table."
            ],
            "metadata": {
                "azdata_cell_guid": "95e91a6e-9038-42d9-9401-5738842aba17"
            }
        },
        {
            "cell_type": "code",
            "source": [
                "DELETE FROM Olivia.planned_makes WHERE id = 7;\r\n",
                "\r\n",
                "SELECT * FROM Olivia.planned_makes; "
            ],
            "metadata": {
                "azdata_cell_guid": "749c748f-19b5-4c69-9004-b6b20216616a",
                "language": "sql"
            },
            "outputs": [
                {
                    "output_type": "display_data",
                    "data": {
                        "text/html": "(1 row affected)"
                    },
                    "metadata": {}
                },
                {
                    "output_type": "display_data",
                    "data": {
                        "text/html": "(4 rows affected)"
                    },
                    "metadata": {}
                },
                {
                    "output_type": "display_data",
                    "data": {
                        "text/html": "Total execution time: 00:00:00.054"
                    },
                    "metadata": {}
                },
                {
                    "output_type": "execute_result",
                    "metadata": {},
                    "execution_count": 21,
                    "data": {
                        "application/vnd.dataresource+json": {
                            "schema": {
                                "fields": [
                                    {
                                        "name": "id"
                                    },
                                    {
                                        "name": "project_name"
                                    },
                                    {
                                        "name": "project_description"
                                    }
                                ]
                            },
                            "data": [
                                {
                                    "0": "1",
                                    "1": "tiling floor",
                                    "2": "re-tiling the bathroom"
                                },
                                {
                                    "0": "2",
                                    "1": "weed-eat yard",
                                    "2": "pull weeds out of yard"
                                },
                                {
                                    "0": "3",
                                    "1": "spray for bugs",
                                    "2": "spray yard for bugs"
                                },
                                {
                                    "0": "4",
                                    "1": "hang paintings",
                                    "2": "measure and hang up pictures"
                                }
                            ]
                        },
                        "text/html": [
                            "<table>",
                            "<tr><th>id</th><th>project_name</th><th>project_description</th></tr>",
                            "<tr><td>1</td><td>tiling floor</td><td>re-tiling the bathroom</td></tr>",
                            "<tr><td>2</td><td>weed-eat yard</td><td>pull weeds out of yard</td></tr>",
                            "<tr><td>3</td><td>spray for bugs</td><td>spray yard for bugs</td></tr>",
                            "<tr><td>4</td><td>hang paintings</td><td>measure and hang up pictures</td></tr>",
                            "</table>"
                        ]
                    }
                }
            ],
            "execution_count": 21
        },
        {
            "cell_type": "markdown",
            "source": [
                "## Drop the Table\n",
                "\n",
                "While this has been fun, it is time to drop the table!"
            ],
            "metadata": {
                "azdata_cell_guid": "2239cb09-137b-4579-905b-1aa020793181"
            },
            "attachments": {}
        },
        {
            "cell_type": "code",
            "source": [
                "DROP TABLE Olivia.planned_makes;"
            ],
            "metadata": {
                "azdata_cell_guid": "b3c7f6ea-ee26-46b3-9c2a-2f7a82c39699",
                "language": "sql"
            },
            "outputs": [
                {
                    "output_type": "display_data",
                    "data": {
                        "text/html": "Commands completed successfully."
                    },
                    "metadata": {}
                },
                {
                    "output_type": "display_data",
                    "data": {
                        "text/html": "Total execution time: 00:00:00.039"
                    },
                    "metadata": {}
                }
            ],
            "execution_count": 22
        }
    ]
}